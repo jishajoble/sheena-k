{
  "nbformat": 4,
  "nbformat_minor": 0,
  "metadata": {
    "colab": {
      "provenance": [],
      "authorship_tag": "ABX9TyPzuYlxO9Zz51xJfHp1qGPL",
      "include_colab_link": true
    },
    "kernelspec": {
      "name": "python3",
      "display_name": "Python 3"
    },
    "language_info": {
      "name": "python"
    }
  },
  "cells": [
    {
      "cell_type": "markdown",
      "metadata": {
        "id": "view-in-github",
        "colab_type": "text"
      },
      "source": [
        "<a href=\"https://colab.research.google.com/github/sheena-k/sheena-k/blob/main/work1.ipynb\" target=\"_parent\"><img src=\"https://colab.research.google.com/assets/colab-badge.svg\" alt=\"Open In Colab\"/></a>"
      ]
    },
    {
      "cell_type": "markdown",
      "source": [
        "ques 1"
      ],
      "metadata": {
        "id": "XUR8pR-Jb8Mf"
      }
    },
    {
      "cell_type": "code",
      "execution_count": null,
      "metadata": {
        "colab": {
          "base_uri": "https://localhost:8080/"
        },
        "id": "bQ5yqE12msHh",
        "outputId": "3a0c0fd8-55f7-4ff7-bc6a-5eed4e0de90d"
      },
      "outputs": [
        {
          "output_type": "stream",
          "name": "stdout",
          "text": [
            "enter the radius:3\n",
            "area of circle is: 28.259999999999998\n"
          ]
        }
      ],
      "source": [
        "pi=3.14\n",
        "radius= float(input(\"enter the radius:\"))\n",
        "area_circle= pi*radius*radius\n",
        "print(\"area of circle is:\",area_circle)\n"
      ]
    },
    {
      "cell_type": "markdown",
      "source": [
        "ques 2"
      ],
      "metadata": {
        "id": "D3hdcMIscHE7"
      }
    },
    {
      "cell_type": "code",
      "source": [],
      "metadata": {
        "id": "HlurlHBZ9-D5"
      },
      "execution_count": null,
      "outputs": []
    },
    {
      "cell_type": "code",
      "source": [
        "name= input(\"enter the name:\")\n",
        "rollno= input(\"enter the rollno:\")\n",
        "mark=input(\"enter the mark:\")\n",
        "print(\"name :\",name)\n",
        "print(\"rollno :\",rollno)\n",
        "print('mark:',mark)"
      ],
      "metadata": {
        "colab": {
          "base_uri": "https://localhost:8080/"
        },
        "id": "y6w-iIvnn2PM",
        "outputId": "857b3d54-a004-4f84-fd98-87d9fac1cbcf"
      },
      "execution_count": null,
      "outputs": [
        {
          "output_type": "stream",
          "name": "stdout",
          "text": [
            "enter the name:Anisha\n",
            "enter the rollno:21\n",
            "enter the mark:78\n",
            "name : Anisha\n",
            "rollno : 21\n",
            "mark: 78\n"
          ]
        }
      ]
    },
    {
      "cell_type": "markdown",
      "source": [
        "ques 3"
      ],
      "metadata": {
        "id": "G6YrfEJ9cMQY"
      }
    },
    {
      "cell_type": "code",
      "source": [
        "list1=[12,3,47,10]\n",
        "print(\"Largest among the number is\",max(list1))"
      ],
      "metadata": {
        "colab": {
          "base_uri": "https://localhost:8080/"
        },
        "id": "XsKnKgWRpDXA",
        "outputId": "35405d28-baa5-4148-af90-41cfc9e8eef2"
      },
      "execution_count": null,
      "outputs": [
        {
          "output_type": "stream",
          "name": "stdout",
          "text": [
            "Largest among the number is 47\n"
          ]
        }
      ]
    },
    {
      "cell_type": "markdown",
      "source": [
        "ques 4"
      ],
      "metadata": {
        "id": "7qnud6QKcUE5"
      }
    },
    {
      "cell_type": "code",
      "source": [
        "\n",
        "for i in range(1,11):\n",
        "  prevnum=i-1\n",
        "  sum=prevnum+i\n",
        "  print(\"current number\",i,\"+\",\"previous num\",prevnum,\"sum is\",prevnum+i)"
      ],
      "metadata": {
        "id": "qkk6TijExCZp",
        "colab": {
          "base_uri": "https://localhost:8080/"
        },
        "outputId": "9841dddf-644d-439b-8818-f945b90d72a1"
      },
      "execution_count": null,
      "outputs": [
        {
          "output_type": "stream",
          "name": "stdout",
          "text": [
            "current number 1 + previous num 0 sum is 1\n",
            "current number 2 + previous num 1 sum is 3\n",
            "current number 3 + previous num 2 sum is 5\n",
            "current number 4 + previous num 3 sum is 7\n",
            "current number 5 + previous num 4 sum is 9\n",
            "current number 6 + previous num 5 sum is 11\n",
            "current number 7 + previous num 6 sum is 13\n",
            "current number 8 + previous num 7 sum is 15\n",
            "current number 9 + previous num 8 sum is 17\n",
            "current number 10 + previous num 9 sum is 19\n"
          ]
        }
      ]
    },
    {
      "cell_type": "markdown",
      "source": [
        "ques 5"
      ],
      "metadata": {
        "id": "_CeC3pkwcaXG"
      }
    },
    {
      "cell_type": "code",
      "source": [
        "num=(10,20,33,46,55)\n",
        "count=0\n",
        "for i in num:\n",
        " if(i%5==0):\n",
        "    count+=1\n",
        "\n",
        "    print(count)\n"
      ],
      "metadata": {
        "colab": {
          "base_uri": "https://localhost:8080/"
        },
        "id": "e3IiIuYg2R9z",
        "outputId": "04af4195-b3de-4ce5-83d2-fa498fdab676"
      },
      "execution_count": null,
      "outputs": [
        {
          "output_type": "stream",
          "name": "stdout",
          "text": [
            "1\n",
            "2\n",
            "3\n"
          ]
        }
      ]
    },
    {
      "cell_type": "markdown",
      "source": [
        "ques 7"
      ],
      "metadata": {
        "id": "Gt_sSPdOcver"
      }
    },
    {
      "cell_type": "code",
      "source": [
        "list3=[10,40,30,70]\n",
        "list3.reverse()\n",
        "print(list3)"
      ],
      "metadata": {
        "colab": {
          "base_uri": "https://localhost:8080/"
        },
        "id": "rklMwPZG8n3W",
        "outputId": "a33dc39e-3fa8-488a-9b54-d47e3627a00c"
      },
      "execution_count": null,
      "outputs": [
        {
          "output_type": "stream",
          "name": "stdout",
          "text": [
            "[70, 30, 40, 10]\n"
          ]
        }
      ]
    },
    {
      "cell_type": "markdown",
      "source": [
        "ques 9"
      ],
      "metadata": {
        "id": "2ABnd6NOcyER"
      }
    },
    {
      "cell_type": "code",
      "source": [
        "a=34\n",
        "b=12\n",
        "c=17\n",
        "if a>b and a>c :\n",
        "  print(\"the largest is\",a)\n",
        "elif b>c and b>a:\n",
        " print (\"the largest is\",b)\n",
        "else:\n",
        "   print(\"the largest is\",c)"
      ],
      "metadata": {
        "colab": {
          "base_uri": "https://localhost:8080/"
        },
        "id": "8SfthaG59_C2",
        "outputId": "8d918bec-3aa4-4f55-c50e-2a6e661e01a2"
      },
      "execution_count": null,
      "outputs": [
        {
          "output_type": "stream",
          "name": "stdout",
          "text": [
            "the largest is 34\n"
          ]
        }
      ]
    },
    {
      "cell_type": "markdown",
      "source": [
        "ques 8"
      ],
      "metadata": {
        "id": "_BtiREaIc7uQ"
      }
    },
    {
      "cell_type": "code",
      "source": [
        "n=4\n",
        "for i in range(1,n+1):\n",
        "  print(\" * \"*i)\n"
      ],
      "metadata": {
        "colab": {
          "base_uri": "https://localhost:8080/"
        },
        "id": "_6HZZAK_X7LA",
        "outputId": "381ce39c-c1f1-4e86-cdb5-e3a5144e194e"
      },
      "execution_count": null,
      "outputs": [
        {
          "output_type": "stream",
          "name": "stdout",
          "text": [
            " * \n",
            " *  * \n",
            " *  *  * \n",
            " *  *  *  * \n"
          ]
        }
      ]
    },
    {
      "cell_type": "markdown",
      "source": [
        "ques 6"
      ],
      "metadata": {
        "id": "A9RJE6KKvZK0"
      }
    },
    {
      "cell_type": "code",
      "source": [
        "num=int(input(\"enter the number\"))\n",
        "if num>1:\n",
        "   for i in range(2,int(num/2)+1):\n",
        "    if num%i==0:\n",
        "          print(num,\"is not a prime number\")\n",
        "          break\n",
        "\n",
        "    else:\n",
        "           print(num,\"is a prime number\")\n",
        "else:\n",
        "          print(num,\"num is not a prime number\")\n"
      ],
      "metadata": {
        "colab": {
          "base_uri": "https://localhost:8080/"
        },
        "id": "a9p_M-9lvbri",
        "outputId": "cc589bd1-0ae0-4875-eaa3-81ee5f548648"
      },
      "execution_count": null,
      "outputs": [
        {
          "output_type": "stream",
          "name": "stdout",
          "text": [
            "enter the number5\n",
            "5 is a prime number\n"
          ]
        }
      ]
    },
    {
      "cell_type": "markdown",
      "source": [
        "ques 10"
      ],
      "metadata": {
        "id": "IVhLgAP141EJ"
      }
    },
    {
      "cell_type": "markdown",
      "source": [],
      "metadata": {
        "id": "ziXtkUk44zlo"
      }
    },
    {
      "cell_type": "code",
      "source": [
        "n=5\n",
        "for i in range(n):\n",
        "    for j in range(i):\n",
        "        print('*',end=\"\")\n",
        "    print('')\n",
        "for i in range(n,0,-1):\n",
        "    for j in range(i):\n",
        "        print(\"*\",end=\"\")\n",
        "    print('')"
      ],
      "metadata": {
        "colab": {
          "base_uri": "https://localhost:8080/"
        },
        "id": "oHg-v-tc5tUb",
        "outputId": "545ccfa8-bd2f-4d49-8ac3-9aa56a7603e3"
      },
      "execution_count": null,
      "outputs": [
        {
          "output_type": "stream",
          "name": "stdout",
          "text": [
            "\n",
            "*\n",
            "**\n",
            "***\n",
            "****\n",
            "*****\n",
            "****\n",
            "***\n",
            "**\n",
            "*\n"
          ]
        }
      ]
    }
  ]
}